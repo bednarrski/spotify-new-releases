{
 "cells": [
  {
   "cell_type": "code",
   "execution_count": 1,
   "metadata": {},
   "outputs": [],
   "source": [
    "from api import spotify_api\n",
    "import json\n",
    "from datetime import datetime, timedelta\n",
    "import re\n",
    "from time import gmtime, strftime\n",
    "import git\n",
    "import requests\n",
    "# https://gitpython.readthedocs.io/en/stable/intro.html\n",
    "\n",
    "settings_file = './api/settings.txt'\n",
    "albums_cache_file = './albums_cache.txt'\n",
    "\n",
    "max_album_age = 4 #years"
   ]
  },
  {
   "cell_type": "code",
   "execution_count": 2,
   "metadata": {},
   "outputs": [
    {
     "name": "stdout",
     "output_type": "stream",
     "text": [
      "\n",
      "Requesting refresh: \n",
      "<Response [200]>\n",
      "200 OK\n",
      "BQAaiTyhOVJP6lo6i9RqlvT4Bu70uA6oeIIo7cXFekqevVgw6Na3_Fqsvwh4fIHrcfD3e3SCU-LSgukj8XmHyszv0kBPBVaKn1VfHUitbc9xCp3MEfgB2Bl7OVP1S-_6GPgrUdOVP1QRUKsuDGxq-KB3Qw8POAQFWTt1Ijc2x-5nVPepIfT3YWrGN6zsUR38VUbra9AaOMCNhAOoOU7WI5jZKsyMb8WP6sAzlN8_WW_ouzky8FUgAca-bYc67bWMeppp_0b1BQEKLtTTDO5P0zNnm-l_EeC1\n",
      "BQAaiTyhOVJP6lo6i9RqlvT4Bu70uA6oeIIo7cXFekqevVgw6Na3_Fqsvwh4fIHrcfD3e3SCU-LSgukj8XmHyszv0kBPBVaKn1VfHUitbc9xCp3MEfgB2Bl7OVP1S-_6GPgrUdOVP1QRUKsuDGxq-KB3Qw8POAQFWTt1Ijc2x-5nVPepIfT3YWrGN6zsUR38VUbra9AaOMCNhAOoOU7WI5jZKsyMb8WP6sAzlN8_WW_ouzky8FUgAca-bYc67bWMeppp_0b1BQEKLtTTDO5P0zNnm-l_EeC1\n"
     ]
    }
   ],
   "source": [
    "access_token = spotify_api.refresh_token(settings_file)"
   ]
  },
  {
   "cell_type": "code",
   "execution_count": 3,
   "metadata": {},
   "outputs": [
    {
     "name": "stdout",
     "output_type": "stream",
     "text": [
      "Last success: 2023-10-01 08:00:00\n"
     ]
    }
   ],
   "source": [
    "last_success_file = \"/Users/bednar/Logs/spotify_news_last_success.txt\"\n",
    "datetime_format = \"%Y-%m-%d %H:%M:%S\"\n",
    "\n",
    "f = open(last_success_file, \"r\")\n",
    "last_success_datetime = datetime.strptime(f.read(), '%Y-%m-%d %H:%M:%S')\n",
    "print(f\"Last success: {last_success_datetime}\")"
   ]
  },
  {
   "cell_type": "code",
   "execution_count": null,
   "metadata": {},
   "outputs": [],
   "source": []
  },
  {
   "cell_type": "code",
   "execution_count": 4,
   "metadata": {},
   "outputs": [],
   "source": [
    "SPOTIFY_API_URL = 'https://api.spotify.com/v1'\n",
    "#AUTH_URL = 'https://accounts.spotify.com/api/token'\n",
    "\n",
    "def get_recent_tracks(token, artist_id, release_date):\n",
    "    \"\"\"\n",
    "    Get recent tracks for a given artist ID and release date.\n",
    "    \"\"\"\n",
    "    headers = {\n",
    "        'Authorization': f'Bearer {token}',\n",
    "    }\n",
    "\n",
    "    response = requests.get(f'{SPOTIFY_API_URL}/artists/{artist_id}/albums', headers=headers)\n",
    "    tracks = []\n",
    "\n",
    "    for album in response.json()['items']:\n",
    "        album_release_date = (album['release_date'] + \"-01-01\")[:10]\n",
    "        album_release_date = datetime.strptime(album_release_date, '%Y-%m-%d')\n",
    "        if album_release_date > release_date:\n",
    "            album_tracks_response = requests.get(f'{SPOTIFY_API_URL}/albums/{album[\"id\"]}/tracks?limit=50', headers=headers)\n",
    "            tracks.extend(album_tracks_response.json()['items'])\n",
    "\n",
    "    return tracks"
   ]
  },
  {
   "cell_type": "code",
   "execution_count": 5,
   "metadata": {},
   "outputs": [],
   "source": [
    "def get_liked_artists(token, verbose = False):\n",
    "    spotify_request_url = 'https://api.spotify.com/v1/'\n",
    "\n",
    "    next_request = spotify_request_url + 'me/following?type=artist&limit=10'\n",
    "    artists_dict = {}\n",
    "\n",
    "    while(True):\n",
    "        next_request = next_request + '&access_token=' + token.strip()\n",
    "        artists_json = spotify_api.spotify_request(next_request)\n",
    "\n",
    "        if verbose:\n",
    "            print('\\n')\n",
    "        artist_items = artists_json['artists']['items']\n",
    "        for item in artist_items:\n",
    "            if verbose:\n",
    "                print(item['name']+' -> '+item['id'])\n",
    "            artists_dict[item['name']] = item['id']\n",
    "\n",
    "        next_request = artists_json['artists']['next']\n",
    "\n",
    "        if verbose:\n",
    "            print('\\n')\n",
    "        if not next_request:\n",
    "            if verbose:\n",
    "                print(\"---END---\")\n",
    "            break\n",
    "            \n",
    "    return artists_dict"
   ]
  },
  {
   "cell_type": "code",
   "execution_count": null,
   "metadata": {},
   "outputs": [],
   "source": []
  },
  {
   "cell_type": "code",
   "execution_count": 6,
   "metadata": {},
   "outputs": [
    {
     "data": {
      "text/plain": [
       "178"
      ]
     },
     "execution_count": 6,
     "metadata": {},
     "output_type": "execute_result"
    }
   ],
   "source": [
    "\n",
    "\n",
    "# Get liked artists\n",
    "#liked_artists_response = requests.get(f'{SPOTIFY_API_URL}/me/following?type=artist', headers={'Authorization': f'Bearer {access_token}'})\n",
    "#liked_artists = liked_artists_response.json()['artists']['items']\n",
    "liked_artists = get_liked_artists(access_token, False)\n",
    "\n",
    "# Get recent tracks for each liked artist\n",
    "all_recent_tracks = []\n",
    "for artist in liked_artists.keys():\n",
    "    artist_recent_tracks = get_recent_tracks(access_token, liked_artists[artist], last_success_datetime)\n",
    "    all_recent_tracks.extend(artist_recent_tracks)\n",
    "\n",
    "# Extract track URIs\n",
    "track_uris = [track['uri'] for track in all_recent_tracks]\n",
    "\n",
    "len(track_uris)\n",
    "# 57"
   ]
  },
  {
   "cell_type": "code",
   "execution_count": 7,
   "metadata": {},
   "outputs": [
    {
     "name": "stdout",
     "output_type": "stream",
     "text": [
      "3X7d5f6ghRbZ6yp7EfWfNv : Temp\n",
      "37i9dQZF1DWTXGqmP0bfT3 : Energy Booster: Metal\n",
      "37i9dQZF1F0sijgNaJdgit : Your Top Songs 2022\n",
      "7fbLjIxIe8TpcDNzJL74Vo : Nu Metal <3\n",
      "0cobLoG4h5dlwzUOtUvhhu : Worthy Oldies\n",
      "37i9dQZF1DWY5ai7gxfuaS : Alternative Metal\n",
      "37i9dQZF1EJBYilw4SIU9l : Anna + piotr\n",
      "21bOfrCkaja2QNZbrDpOWA : Garden Party\n",
      "1dIKRltCE0sSsdNyDgEFxA : Kiedy starej nie ma\n",
      "5QtunQsOyazjCStL8KNz3U : Music News (Bednar)\n",
      "1SXZgziRBTJwU3wy1HQjJs : Discoveries!\n",
      "3IG5YeyDxr2WvmtxoABXco : Cheerful raps\n",
      "7dxKj0tjReCC9lh9dho2bt : Hard Pop\n",
      "7sOohuBQejSZPQBIkvmh1C : Make it right\n",
      "5UWkugaExwjDzZ88TQxkKv : Gimbaza\n",
      "37i9dQZF1E36nvkKffTErV : Daily Mix 1\n",
      "37i9dQZF1E38Fn9m81W7RQ : Daily Mix 2\n",
      "37i9dQZF1E3667zvRrCgGf : Daily Mix 3\n",
      "37i9dQZF1E37v344O1UgHe : Daily Mix 4\n",
      "37i9dQZF1E39mI1lvzAmDP : Daily Mix 5\n"
     ]
    }
   ],
   "source": [
    "headers = {\n",
    "    'Authorization': f'Bearer {access_token.strip()}',\n",
    "}\n",
    "\n",
    "response = requests.get(f'{SPOTIFY_API_URL}/me/playlists', headers=headers)\n",
    "playlists = response.json()['items']\n",
    "\n",
    "for pl in playlists:\n",
    "    print(f\"{pl['id']} : {pl['name']}\")"
   ]
  },
  {
   "cell_type": "code",
   "execution_count": 8,
   "metadata": {},
   "outputs": [
    {
     "name": "stdout",
     "output_type": "stream",
     "text": [
      "201 Created\n",
      "201 Created\n",
      "201 Created\n",
      "201 Created\n",
      "201 Created\n",
      "201 Created\n",
      "201 Created\n",
      "201 Created\n",
      "201 Created\n",
      "201 Created\n",
      "201 Created\n",
      "201 Created\n",
      "201 Created\n",
      "201 Created\n",
      "201 Created\n",
      "201 Created\n",
      "201 Created\n",
      "201 Created\n"
     ]
    }
   ],
   "source": [
    "max_tracks_per_request = 10\n",
    "my_playlist = '5QtunQsOyazjCStL8KNz3U'\n",
    "url = 'https://api.spotify.com/v1/users/piotr.bednarski/playlists/' + my_playlist + '/tracks?uris='\n",
    "headers = {\n",
    "    'Authorization' : 'Bearer ' + access_token.strip(),\n",
    "    'Content-Type' : 'application/json'\n",
    "}\n",
    "url_full = url\n",
    "for i in range(len(track_uris)):\n",
    "    #print(track_uris[i])\n",
    "    url_full = url_full + track_uris[i] + ','\n",
    "    \n",
    "    if (i%max_tracks_per_request == max_tracks_per_request-1) or (i == len(track_uris)-1):\n",
    "        url_full = url_full[:-1]\n",
    "        #print(\"Request!\")\n",
    "        r = requests.post(url_full, headers=headers)\n",
    "        #print(r)\n",
    "        print(r.status_code, r.reason)\n",
    "        url_full = url"
   ]
  },
  {
   "cell_type": "code",
   "execution_count": 9,
   "metadata": {},
   "outputs": [
    {
     "name": "stdout",
     "output_type": "stream",
     "text": [
      "New success date: 2023-10-25 12:17:23.615296\n"
     ]
    }
   ],
   "source": [
    "# Save last success datetime\n",
    "\n",
    "last_success_datetime = datetime.now()\n",
    "\n",
    "f = open(last_success_file, \"w\")\n",
    "f.write(last_success_datetime.strftime(datetime_format))\n",
    "f.close()\n",
    "\n",
    "print(f\"New success date: {last_success_datetime}\")"
   ]
  },
  {
   "cell_type": "code",
   "execution_count": 10,
   "metadata": {},
   "outputs": [
    {
     "ename": "SyntaxError",
     "evalue": "invalid syntax (<ipython-input-10-a96ba3aab008>, line 1)",
     "output_type": "error",
     "traceback": [
      "\u001b[0;36m  File \u001b[0;32m\"<ipython-input-10-a96ba3aab008>\"\u001b[0;36m, line \u001b[0;32m1\u001b[0m\n\u001b[0;31m    stop here\u001b[0m\n\u001b[0m            ^\u001b[0m\n\u001b[0;31mSyntaxError\u001b[0m\u001b[0;31m:\u001b[0m invalid syntax\n"
     ]
    }
   ],
   "source": [
    "stop here"
   ]
  },
  {
   "cell_type": "code",
   "execution_count": null,
   "metadata": {},
   "outputs": [],
   "source": [
    "next_request = 'https://api.spotify.com/v1/me/playlists?access_token=' + access_token.strip()\n",
    "playlists_json = spotify_api.spotify_request(next_request)\n",
    "\n",
    "my_playlist = '5QtunQsOyazjCStL8KNz3U'\n",
    "\n",
    "playlists_items = playlists_json['items']\n",
    "for item in playlists_items:\n",
    "    print(item['name'] + ' -> ' + item['id'])\n",
    "    if item['name'].strip() == 'Music News (Bednar)':\n",
    "        my_playlist = item['id'].strip()\n",
    "        \n",
    "print('\\nMy playlist ID: ' + my_playlist)"
   ]
  },
  {
   "cell_type": "code",
   "execution_count": null,
   "metadata": {},
   "outputs": [],
   "source": [
    "import requests\n",
    "\n",
    "max_tracks_per_request = 10\n",
    "url = 'https://api.spotify.com/v1/users/piotr.bednarski/playlists/' + my_playlist + '/tracks?uris='\n",
    "headers = {\n",
    "    'Authorization' : 'Bearer ' + access_token.strip(),\n",
    "    'Content-Type' : 'application/json'\n",
    "}\n",
    "url_full = url\n",
    "for i in range(len(new_tracks)):\n",
    "    #print(new_tracks[i])\n",
    "    url_full = url_full + new_tracks[i] + ','\n",
    "    \n",
    "    if (i%max_tracks_per_request == max_tracks_per_request-1) or (i == len(new_tracks)-1):\n",
    "        url_full = url_full[:-1]\n",
    "        #print(\"Request!\")\n",
    "        r = requests.post(url_full, headers=headers)\n",
    "        #print(r)\n",
    "        print(r.status_code, r.reason)\n",
    "        url_full = url"
   ]
  },
  {
   "cell_type": "code",
   "execution_count": null,
   "metadata": {},
   "outputs": [],
   "source": [
    "with open('feed_stub.xml', 'r') as fs:\n",
    "    feed_stub=fs.read()"
   ]
  },
  {
   "cell_type": "code",
   "execution_count": null,
   "metadata": {},
   "outputs": [],
   "source": [
    "title = strftime(\"%Y-%m-%d %H:%M Spotify newest releases\", gmtime())\n",
    "feed = re.sub('TITLE', title, feed_stub, flags=(re.MULTILINE | re.DOTALL))"
   ]
  },
  {
   "cell_type": "code",
   "execution_count": null,
   "metadata": {},
   "outputs": [],
   "source": [
    "description = 'New releases:&lt;br&gt;'\n",
    "for item in new_albums_dict:\n",
    "    description = description + '&lt;br&gt;' + new_albums_dict[item][0]+ ' - ' + new_albums_dict[item][1]\n",
    "print(description)\n",
    "feed = re.sub('DESCRIPTION', description, feed, flags=(re.MULTILINE | re.DOTALL))"
   ]
  },
  {
   "cell_type": "code",
   "execution_count": null,
   "metadata": {},
   "outputs": [],
   "source": [
    "with open('feed.xml', 'w', encoding='utf-8') as f:\n",
    "    f.write(feed)"
   ]
  },
  {
   "cell_type": "code",
   "execution_count": null,
   "metadata": {},
   "outputs": [],
   "source": [
    "repo = git.Repo( '/home/piotr.bednarski/Repositories/spotify-new-releases' )\n",
    "print(repo.git.add( '.' ))\n",
    "\n",
    "timestring = strftime(\"%Y%m%d_%H%M%S\", gmtime())\n",
    "message = '\"Update at ' + timestring + '\"'\n",
    "\n",
    "print(repo.git.commit( m=message ))\n",
    "print(repo.git.push())\n",
    "print(repo.git.status())"
   ]
  },
  {
   "cell_type": "code",
   "execution_count": null,
   "metadata": {},
   "outputs": [],
   "source": []
  },
  {
   "cell_type": "code",
   "execution_count": null,
   "metadata": {},
   "outputs": [],
   "source": [
    "dict(beam_job_id=\"test\")"
   ]
  },
  {
   "cell_type": "code",
   "execution_count": null,
   "metadata": {},
   "outputs": [],
   "source": []
  }
 ],
 "metadata": {
  "kernelspec": {
   "display_name": "Python 3",
   "language": "python",
   "name": "python3"
  },
  "language_info": {
   "codemirror_mode": {
    "name": "ipython",
    "version": 3
   },
   "file_extension": ".py",
   "mimetype": "text/x-python",
   "name": "python",
   "nbconvert_exporter": "python",
   "pygments_lexer": "ipython3",
   "version": "3.7.6"
  }
 },
 "nbformat": 4,
 "nbformat_minor": 4
}
